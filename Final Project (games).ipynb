{
 "cells": [
  {
   "cell_type": "markdown",
   "id": "1832cd92",
   "metadata": {},
   "source": [
    "dict1= {[0,0],[0,1],[0,2],\n",
    "       [1,0],[1,1],[1,2],\n",
    "       [2,0],[2,1],[2,2]} 3x3 array"
   ]
  },
  {
   "cell_type": "code",
   "execution_count": 1,
   "id": "1b009aa0",
   "metadata": {
    "scrolled": false
   },
   "outputs": [
    {
     "name": "stdout",
     "output_type": "stream",
     "text": [
      "1\n",
      "2\n",
      "3\n"
     ]
    }
   ],
   "source": [
    "for x in range(1,4):\n",
    "    print(x)"
   ]
  },
  {
   "cell_type": "code",
   "execution_count": 12,
   "id": "c99df0ae",
   "metadata": {},
   "outputs": [],
   "source": [
    "class games(): #defining the class as games (planned to use more than 1 game)\n",
    "    \n",
    "    def __init__(self,P1,P2,z1,z2): #__init__ to setup the variables going to be used\n",
    "        self.P1 = int(P1)\n",
    "        self.P2 = int(P2)\n",
    "        self.z1 = int(z1)\n",
    "        self.z2 = int(z2)\n",
    "        \n",
    "    def tictactoe(self): #define the tictactoe game\n",
    "        def win(self):\n",
    "            return ((ttt[0][0]==ttt[0][1]==ttt[0][2]==self.z1 or\n",
    "                ttt[1][0]==ttt[1][1]==ttt[1][2]==self.z1 or\n",
    "                ttt[2][0]==ttt[2][1]==ttt[2][2]==self.z1 or\n",
    "                ttt[0][0]==ttt[1][1]==ttt[2][2]==self.z1 or\n",
    "                ttt[0][2]==ttt[1][1]==ttt[2][0]==self.z1 or\n",
    "                ttt[0][0]==ttt[1][0]==ttt[2][0]==self.z1 or\n",
    "                ttt[0][1]==ttt[1][1]==ttt[2][1]==self.z1 or\n",
    "                ttt[0][2]==ttt[1][2]==ttt[2][2]==self.z1 or\n",
    "                ttt[0][0]==ttt[0][1]==ttt[0][2]==self.z2 or\n",
    "                ttt[1][0]==ttt[1][1]==ttt[1][2]==self.z2 or\n",
    "                ttt[2][0]==ttt[2][1]==ttt[2][2]==self.z2 or\n",
    "                ttt[0][0]==ttt[1][1]==ttt[2][2]==self.z2 or\n",
    "                ttt[0][2]==ttt[1][1]==ttt[2][0]==self.z2 or\n",
    "                ttt[0][0]==ttt[1][0]==ttt[2][0]==self.z2 or\n",
    "                ttt[0][1]==ttt[1][1]==ttt[2][1]==self.z2 or\n",
    "                ttt[0][2]==ttt[1][2]==ttt[2][2]==self.z2 or\n",
    "                (ttt.all()!=0) and (ttt.any()!=0)))\n",
    "    #rows, columns, crosses for 1st and 2nd variable.\n",
    "        count=0 #start the count at 0 turn.\n",
    "        print(ttt) #print the array\n",
    "        while win(self)==False: #start the while loop\n",
    "            if count%2==self.P1: #my turn\n",
    "                 while count%2==self.P1:\n",
    "                    x = int(input(\"Enter row (1/2/3)\"))\n",
    "                    y = int(input(\"Enter column (1/2/3)\"))            \n",
    "                    if x not in range(1,4) or y not in range(1,4):\n",
    "                        print(\"You can't enter numbers outside of 1,2, and 3\")\n",
    "                    elif ttt[x-1][y-1]!=0:\n",
    "                        print(\"You can't change an already previously filled box. Don't cheat!\")\n",
    "                    else: \n",
    "                        ttt[x-1][y-1]=self.z1\n",
    "                        print(ttt)\n",
    "                        count+=1\n",
    "                        print(\"Turns:\",count)     \n",
    "            else: #computer's turn\n",
    "                while count%2!=self.P1:\n",
    "                    x= rand.randint(1,3)\n",
    "                    y= rand.randint(1,3)\n",
    "                    if ttt[x-1][y-1]!=0:\n",
    "                        print(\"I'm thinking\")\n",
    "                    else: \n",
    "                        ttt[x-1][y-1]=self.z2\n",
    "                        print(ttt)\n",
    "                        count+=1\n",
    "                        print(\"Turns:\",count)\n",
    "        if ttt.all()!=0: #condition for draw\n",
    "            print(\"It's a draw.\")\n",
    "        elif count%2!=self.P1: #condition for user's win\n",
    "            print(\"You won!\")\n",
    "        else: #condition for cpu's win\n",
    "            print(\"I won!\")"
   ]
  },
  {
   "cell_type": "code",
   "execution_count": 17,
   "id": "a545fad1",
   "metadata": {
    "scrolled": true
   },
   "outputs": [
    {
     "name": "stdout",
     "output_type": "stream",
     "text": [
      "Turns: 0\n",
      "[[0. 0. 0.]\n",
      " [0. 0. 0.]\n",
      " [0. 0. 0.]]\n",
      "Enter number you want to use: 1\n",
      "Enter number you want computer to use: 1\n",
      "Computer can't use same number as you.\n",
      "Enter number you want to use: 1\n",
      "Enter number you want computer to use: 2\n",
      "Do you want to go first? (1=Y/0=N) 1\n",
      "[[0. 0. 0.]\n",
      " [0. 0. 0.]\n",
      " [0. 0. 0.]]\n",
      "Enter row (1/2/3)1\n",
      "Enter column (1/2/3)1\n",
      "[[1. 0. 0.]\n",
      " [0. 0. 0.]\n",
      " [0. 0. 0.]]\n",
      "Turns: 1\n",
      "[[1. 0. 0.]\n",
      " [0. 0. 2.]\n",
      " [0. 0. 0.]]\n",
      "Turns: 2\n",
      "Enter row (1/2/3)1\n",
      "Enter column (1/2/3)2\n",
      "[[1. 1. 0.]\n",
      " [0. 0. 2.]\n",
      " [0. 0. 0.]]\n",
      "Turns: 3\n",
      "[[1. 1. 0.]\n",
      " [0. 2. 2.]\n",
      " [0. 0. 0.]]\n",
      "Turns: 4\n",
      "Enter row (1/2/3)1\n",
      "Enter column (1/2/3)3\n",
      "[[1. 1. 1.]\n",
      " [0. 2. 2.]\n",
      " [0. 0. 0.]]\n",
      "Turns: 5\n",
      "You won!\n"
     ]
    }
   ],
   "source": [
    "import random as rand\n",
    "import numpy as np\n",
    "count = 0\n",
    "print(\"Turns:\",count)\n",
    "ttt = np.zeros((3,3)) #set up the array\n",
    "print(ttt) #show the array\n",
    "v=2\n",
    "z1=0\n",
    "z2=0\n",
    "while (z1==0 or z2==0) or (z1==z2): #make sure the input is within reason\n",
    "    z1= int(input(\"Enter number you want to use: \"))\n",
    "    z2= int(input(\"Enter number you want computer to use: \"))\n",
    "    if z1==0 or z2==0:\n",
    "        print(\"Can't use number for 'blanks'. This is considered cheating.\")\n",
    "    elif z1==z2: \n",
    "        print(\"Computer can't use same number as you.\")\n",
    "    else:\n",
    "        while v!=0 and v!=1: #make sure the input is within reason\n",
    "            v = int(input(\"Do you want to go first? (1=Y/0=N) \"))\n",
    "            if v!=0 and v!=1: #output if it's an unreasonable input\n",
    "                print(\"Please enter (1/0)\")\n",
    "            elif v == 1: #\n",
    "                g1= games(0,1,z1,z2)\n",
    "                g1.tictactoe()\n",
    "            else:\n",
    "                g1=games(1,0,z1,z2)\n",
    "                g1.tictactoe()\n"
   ]
  },
  {
   "cell_type": "code",
   "execution_count": null,
   "id": "35bac3d1",
   "metadata": {},
   "outputs": [],
   "source": []
  }
 ],
 "metadata": {
  "kernelspec": {
   "display_name": "Python 3 (ipykernel)",
   "language": "python",
   "name": "python3"
  },
  "language_info": {
   "codemirror_mode": {
    "name": "ipython",
    "version": 3
   },
   "file_extension": ".py",
   "mimetype": "text/x-python",
   "name": "python",
   "nbconvert_exporter": "python",
   "pygments_lexer": "ipython3",
   "version": "3.9.13"
  }
 },
 "nbformat": 4,
 "nbformat_minor": 5
}
